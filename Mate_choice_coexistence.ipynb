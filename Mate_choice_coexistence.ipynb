{
 "cells": [
  {
   "cell_type": "code",
   "execution_count": 8,
   "metadata": {},
   "outputs": [],
   "source": [
    "import random\n",
    "import numpy as np\n",
    "import matplotlib.pyplot as plt\n",
    "import pandas as pd\n",
    "import seaborn as sns"
   ]
  },
  {
   "cell_type": "code",
   "execution_count": 9,
   "metadata": {},
   "outputs": [],
   "source": [
    "#defining general parameters\n",
    "\n",
    "number_of_offspring_per_female = 3"
   ]
  },
  {
   "cell_type": "code",
   "execution_count": 10,
   "metadata": {},
   "outputs": [],
   "source": [
    "#preferecencs (A mutual choice; B female only)\n",
    "\n",
    "A_08_preference_dictionary = {\n",
    "\n",
    "    'A_females_preference_for_A_male': 0.8,\n",
    "    'A_females_preference_for_B_male': 1 - 0.8,\n",
    "    'B_females_preference_for_B_male': 0.8,\n",
    "    'B_females_preference_for_A_male': 1 - 0.8,\n",
    "    'A_males_preference_for_A_female': 0.8,\n",
    "    'A_males_preference_for_B_female': 1 - 0.8,\n",
    "    'B_males_preference_for_B_female': 0.5,\n",
    "    'B_males_preference_for_A_female': 1 - 0.5\n",
    "}\n",
    "\n"
   ]
  },
  {
   "cell_type": "code",
   "execution_count": 11,
   "metadata": {},
   "outputs": [],
   "source": [
    "def mating_compatibility(male_type, female_type, preference_dictionary):\n",
    "    if male_type == \"A\":\n",
    "        if female_type == \"A\":\n",
    "            mating_compatibility = preference_dictionary['A_males_preference_for_A_female'] * preference_dictionary['A_females_preference_for_A_male']\n",
    "        elif female_type == \"B\":\n",
    "            mating_compatibility = preference_dictionary['A_males_preference_for_B_female'] * preference_dictionary['B_females_preference_for_A_male']\n",
    "    elif male_type == \"B\":\n",
    "        if female_type == \"A\":\n",
    "            mating_compatibility = preference_dictionary['B_males_preference_for_A_female'] * preference_dictionary['A_females_preference_for_B_male']\n",
    "        elif female_type == \"B\":\n",
    "            mating_compatibility = preference_dictionary['B_males_preference_for_B_female'] * preference_dictionary['B_females_preference_for_B_male']\n",
    "    return mating_compatibility\n"
   ]
  },
  {
   "cell_type": "markdown",
   "metadata": {},
   "source": [
    "Simulation \n",
    "\n"
   ]
  },
  {
   "cell_type": "code",
   "execution_count": 12,
   "metadata": {},
   "outputs": [],
   "source": [
    "''' simulates two species over a number of generations and returns the winner (1 if A wins, -1 if B wins, 0 if both coexist) for given parameters of number of generations, max mating attempts per male, preference dictionary'''\n",
    "\n",
    "def simulate_two_species_over_generations(number_of_generations, population_size_of_each_species, max_mating_attempt_for_male, preference_dictionary, number_of_offspring_per_female):\n",
    "\n",
    "        winner = \"0\"\n",
    "\n",
    "        number_of_A = int(population_size_of_each_species//2)\n",
    "        number_of_B = int(population_size_of_each_species//2)\n",
    "\n",
    "        number_of_A_males = int(number_of_A//2)\n",
    "        number_of_A_females = int(number_of_A//2)\n",
    "\n",
    "        number_of_B_males = int(number_of_B//2)\n",
    "        number_of_B_females = int(number_of_B//2)\n",
    "\n",
    "        for k in range(number_of_generations):\n",
    "\n",
    "\n",
    "                #make population lists based on number of individuals so that it can be sampled from\n",
    "                males_A_list = [\"A\"]*number_of_A_males\n",
    "                males_B_list = [\"B\"]*number_of_B_males\n",
    "                females_A_list = [\"A\"]*number_of_A_females\n",
    "                females_B_list = [\"B\"]*number_of_B_females\n",
    "\n",
    "                all_males_list = males_A_list + males_B_list\n",
    "                all_female_list = females_A_list + females_B_list\n",
    "\n",
    "\n",
    "                #reset number of offspring to zero\n",
    "                number_of_A_offspring = 0\n",
    "                number_of_B_offspring = 0\n",
    "\n",
    "                unmated_male_list = all_males_list.copy()\n",
    "                unmated_female_list = all_female_list.copy()\n",
    "\n",
    "                #mating and reproduction \n",
    "                while unmated_male_list != [] and unmated_female_list != []:   #Matings happen until there are no unmated males or females left\n",
    "                \n",
    "                        chosen_male_type = random.choice(unmated_male_list)   #male randomly chosen\n",
    "\n",
    "                        mating_attempt_for_male = 1  \n",
    "\n",
    "                        while mating_attempt_for_male <= max_mating_attempt_for_male and unmated_female_list != []:  #male can mate only a fixed number of times\n",
    "\n",
    "                                chosen_female_type = random.choice(unmated_female_list)    #female chosen at random\n",
    "\n",
    "                                mating_attempt_for_male += 1\n",
    "\n",
    "\n",
    "                                if random.random() < mating_compatibility(chosen_male_type, chosen_female_type, preference_dictionary): \n",
    "                                        #mating success\n",
    "\n",
    "                                        unmated_female_list.remove(chosen_female_type)\n",
    "                                        \n",
    "                                        if chosen_male_type == \"A\" and chosen_female_type == \"A\":\n",
    "                                                number_of_A_offspring += number_of_offspring_per_female\n",
    "                                        \n",
    "                                        if chosen_male_type == \"B\" and chosen_female_type == \"B\":\n",
    "                                                number_of_B_offspring += number_of_offspring_per_female\n",
    "\n",
    "\n",
    "                total_number_of_offspring = number_of_A_offspring + number_of_B_offspring\n",
    "                \n",
    "                number_of_A_offspring_normalised_to_N = round((number_of_A_offspring/total_number_of_offspring)*population_size_of_each_species)\n",
    "                number_of_B_offspring_normalised_to_N = round((number_of_B_offspring/total_number_of_offspring)*population_size_of_each_species)\n",
    "\n",
    "\n",
    "                number_of_male_A_offspring = sum(np.random.binomial(1, 0.5, number_of_A_offspring_normalised_to_N))\n",
    "                number_of_female_A_offspring = number_of_A_offspring_normalised_to_N - number_of_male_A_offspring\n",
    "\n",
    "                number_of_male_B_offspring = sum(np.random.binomial(1, 0.5, number_of_B_offspring_normalised_to_N))\n",
    "                number_of_female_B_offspring = number_of_B_offspring_normalised_to_N - number_of_male_B_offspring\n",
    "\n",
    "                if min(number_of_male_A_offspring, number_of_female_A_offspring, number_of_male_B_offspring, number_of_female_B_offspring) < 2:\n",
    "\n",
    "                        # print(number_of_male_A_offspring, number_of_female_A_offspring, number_of_male_B_offspring, number_of_female_B_offspring)\n",
    "\n",
    "                        if number_of_male_A_offspring < 2 or number_of_female_A_offspring == 2:\n",
    "                                winner = \"-1\"\n",
    "                        else:\n",
    "                                winner = \"1\"                    #-1 case where A goes extinct (B wins), 1 case where B goes extinct (A wins), 0  where both species coexist\n",
    "\n",
    "                        break   \n",
    "        \n",
    "                number_of_A_males = number_of_male_A_offspring\n",
    "                number_of_A_females = number_of_female_A_offspring\n",
    "                number_of_B_males = number_of_male_B_offspring\n",
    "                number_of_B_females = number_of_female_B_offspring\n",
    "\n",
    "        return winner\n",
    "\n",
    "                # print(number_of_A_males, number_of_A_females, number_of_B_males, number_of_B_females)\n",
    "\n",
    "# print(simulate_two_species_over_generations(100, 100, 10, preference_dictionary))"
   ]
  },
  {
   "cell_type": "code",
   "execution_count": 13,
   "metadata": {},
   "outputs": [],
   "source": [
    "'''since outcome is stochastic, simulation run multiple times obtain an avergae outcome'''\n",
    "\n",
    "def population_outcome_for_given_parameter_combination(number_of_generations, population_size_of_each_species, max_mating_attempt_for_male,preference_dictionary, number_of_offspring_per_female):\n",
    "\n",
    "    outcome_list = []\n",
    "    for i in range(10):\n",
    "        outcome = simulate_two_species_over_generations(number_of_generations, population_size_of_each_species, max_mating_attempt_for_male, preference_dictionary, number_of_offspring_per_female)\n",
    "        outcome_list.append(int(outcome))\n",
    "        \n",
    "    avg_outcome = np.mean(outcome_list)\n",
    "    return avg_outcome\n"
   ]
  },
  {
   "cell_type": "code",
   "execution_count": 14,
   "metadata": {},
   "outputs": [
    {
     "name": "stdout",
     "output_type": "stream",
     "text": [
      "[-1.0, -1.0, -1.0, -1.0, -0.6, 0.0, -0.6, -1.0, -1.0, -0.8]\n"
     ]
    },
    {
     "data": {
      "image/png": "[encoded data removed]",
      "text/plain": [
       "<Figure size 640x480 with 2 Axes>"
      ]
     },
     "metadata": {},
     "output_type": "display_data"
    }
   ],
   "source": [
    "'''understanding the relation b/w degree of male homotypic preference of species A on outcome. In all cases, males of species B mate indiscriminately. Female homotypic preference of both species is kept constant at 0.8 '''\n",
    "\n",
    "alpha_list = []\n",
    "avg_outcome_list = []\n",
    "\n",
    "for alpha in np.arange(0, 1, 0.1):\n",
    "\n",
    "    preference_dictionary_for_alpha = {\n",
    "\n",
    "        'A_females_preference_for_A_male': 0.8,\n",
    "        'A_females_preference_for_B_male': 0.2,\n",
    "        'B_females_preference_for_B_male': 0.8,\n",
    "        'B_females_preference_for_A_male': 0.2,\n",
    "        'A_males_preference_for_A_female': alpha,\n",
    "        'A_males_preference_for_B_female': 1 - alpha,\n",
    "        'B_males_preference_for_B_female': 0.5,\n",
    "        'B_males_preference_for_A_female': 0.5\n",
    "    }\n",
    "\n",
    "\n",
    "    avg_outcome = population_outcome_for_given_parameter_combination(100, 10000, 5 ,preference_dictionary_for_alpha, 3)\n",
    "    \n",
    "    alpha_list.append(alpha)\n",
    "    avg_outcome_list.append(avg_outcome)\n",
    "\n",
    "\n",
    "print(avg_outcome_list)\n",
    "sns.heatmap([avg_outcome_list], xticklabels=np.round(alpha_list, 1), yticklabels=False, cmap = \"coolwarm\", vmin = -1, vmax = 1)\n",
    "plt.show()\n"
   ]
  }
 ],
 "metadata": {
  "kernelspec": {
   "display_name": "Python 3",
   "language": "python",
   "name": "python3"
  },
  "language_info": {
   "codemirror_mode": {
    "name": "ipython",
    "version": 3
   },
   "file_extension": ".py",
   "mimetype": "text/x-python",
   "name": "python",
   "nbconvert_exporter": "python",
   "pygments_lexer": "ipython3",
   "version": "3.12.1"
  }
 },
 "nbformat": 4,
 "nbformat_minor": 2
}
