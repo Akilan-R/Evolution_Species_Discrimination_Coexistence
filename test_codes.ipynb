{
 "cells": [
  {
   "cell_type": "code",
   "execution_count": 6,
   "metadata": {},
   "outputs": [
    {
     "name": "stdout",
     "output_type": "stream",
     "text": [
      "{'b': 5.0, 'c': 6.0}\n"
     ]
    }
   ],
   "source": [
    "from collections import Counter\n",
    "\n",
    "# Define three dictionaries\n",
    "dict1 = {'a': 0, 'b': 2, 'c': 3}\n",
    "dict2 = {'a': 0, 'b': 5, 'c': 6}\n",
    "dict3 = {'a': 0, 'b': 8, 'c': 9}\n",
    "\n",
    "# Get the average of all values using Counter\n",
    "average_values = Counter(dict1) + Counter(dict2) + Counter(dict3)\n",
    "average_values = {key: value / 3 for key, value in average_values.items()}\n",
    "\n",
    "# Print the average of all values\n",
    "print(average_values)\n"
   ]
  },
  {
   "cell_type": "code",
   "execution_count": 7,
   "metadata": {},
   "outputs": [
    {
     "name": "stdout",
     "output_type": "stream",
     "text": [
      "{'a': 0.0, 'b': 5.0, 'c': 6.0}\n"
     ]
    }
   ],
   "source": [
    "average_dict = {}\n",
    "\n",
    "\n",
    "for key in dict1.keys():\n",
    "    total_value = 0\n",
    "    for d in [dict1, dict2, dict3]:\n",
    "        total_value += d.get(key)\n",
    "    average_dict[key] = total_value / len([dict1, dict2, dict3])\n",
    "\n",
    "\n",
    "print(average_dict)"
   ]
  }
 ],
 "metadata": {
  "kernelspec": {
   "display_name": "Python 3",
   "language": "python",
   "name": "python3"
  },
  "language_info": {
   "codemirror_mode": {
    "name": "ipython",
    "version": 3
   },
   "file_extension": ".py",
   "mimetype": "text/x-python",
   "name": "python",
   "nbconvert_exporter": "python",
   "pygments_lexer": "ipython3",
   "version": "3.12.1"
  }
 },
 "nbformat": 4,
 "nbformat_minor": 2
}
